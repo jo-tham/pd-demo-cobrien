{
 "cells": [
  {
   "cell_type": "code",
   "execution_count": 1,
   "metadata": {
    "collapsed": true
   },
   "outputs": [],
   "source": [
    "import pandas as pd\n",
    "import numpy as np\n",
    "import datetime"
   ]
  },
  {
   "cell_type": "markdown",
   "metadata": {},
   "source": [
    "## Setup some fake data"
   ]
  },
  {
   "cell_type": "code",
   "execution_count": 2,
   "metadata": {
    "collapsed": true
   },
   "outputs": [],
   "source": [
    "def generate_random_date():\n",
    "    return datetime.datetime(\n",
    "        np.random.randint(1999, 2015),\n",
    "        np.random.randint(1, 12),\n",
    "        np.random.randint(1, 28),\n",
    "        np.random.randint(0, 23),\n",
    "        np.random.randint(0, 59),\n",
    "        np.random.randint(0, 59),\n",
    "    )"
   ]
  },
  {
   "cell_type": "code",
   "execution_count": 3,
   "metadata": {
    "collapsed": false
   },
   "outputs": [],
   "source": [
    "num_rows = 10\n",
    "data = pd.DataFrame({\n",
    "        'from': np.random.randint(0, 100, num_rows),\n",
    "        'to': np.random.randint(0, 100, num_rows),\n",
    "        'time': [generate_random_date() for _ in range(num_rows)],\n",
    "        'duration': np.random.exponential(30, num_rows),\n",
    "    })"
   ]
  },
  {
   "cell_type": "code",
   "execution_count": 4,
   "metadata": {
    "collapsed": false
   },
   "outputs": [],
   "source": [
    "resample_indices = np.random.randint(0, num_rows-1, 30)\n",
    "data_with_duplicates = data.ix[resample_indices]"
   ]
  },
  {
   "cell_type": "code",
   "execution_count": 5,
   "metadata": {
    "collapsed": false
   },
   "outputs": [],
   "source": [
    "data_with_duplicates_jittered = data_with_duplicates.copy()\n",
    "data_with_duplicates_jittered['time'] = data_with_duplicates_jittered['time'] + \\\n",
    "    [datetime.timedelta(0,np.random.randint(0,2)) \n",
    "     for _ in range(data_with_duplicates.shape[0])]"
   ]
  },
  {
   "cell_type": "markdown",
   "metadata": {},
   "source": [
    "## Remove duplicate records\n",
    "\n",
    "A duplicate record is defined as having same from, to, and time. Remove duplicates using the pandas function"
   ]
  },
  {
   "cell_type": "code",
   "execution_count": 6,
   "metadata": {
    "collapsed": false
   },
   "outputs": [],
   "source": [
    "filtered_method_one = data_with_duplicates.drop_duplicates()"
   ]
  },
  {
   "cell_type": "markdown",
   "metadata": {},
   "source": [
    "If duplicates are a bit fuzzier, i.e. a sequence of records within 2 seconds, it is a bit more complicated.\n",
    "\n",
    "Sort by from, to, time\n",
    "\n",
    "Then calculate groups/windows by finding chains of records with time within 2 seconds"
   ]
  },
  {
   "cell_type": "code",
   "execution_count": 7,
   "metadata": {
    "collapsed": true
   },
   "outputs": [],
   "source": [
    "def to_seconds(x):\n",
    "    try:\n",
    "        return x.seconds\n",
    "    except:\n",
    "        pass"
   ]
  },
  {
   "cell_type": "code",
   "execution_count": 8,
   "metadata": {
    "collapsed": false
   },
   "outputs": [
    {
     "name": "stderr",
     "output_type": "stream",
     "text": [
      "/home/joth/projects/2016-11-24_pandas-cobrien/venv/lib/python3.5/site-packages/ipykernel/__main__.py:1: FutureWarning: sort(columns=....) is deprecated, use sort_values(by=.....)\n",
      "  if __name__ == '__main__':\n"
     ]
    }
   ],
   "source": [
    "dwdj_sorted = data_with_duplicates_jittered.sort(['from', 'to', 'time'])\n",
    "dwdj_sorted['time_since_previous'] = dwdj_sorted['time'] - dwdj_sorted['time'].shift(1) \n",
    "dwdj_sorted['time_since_previous'] = dwdj_sorted['time_since_previous'].apply(lambda x: to_seconds(x))"
   ]
  },
  {
   "cell_type": "code",
   "execution_count": 9,
   "metadata": {
    "collapsed": false
   },
   "outputs": [
    {
     "data": {
      "text/html": [
       "<div>\n",
       "<table border=\"1\" class=\"dataframe\">\n",
       "  <thead>\n",
       "    <tr style=\"text-align: right;\">\n",
       "      <th></th>\n",
       "      <th>duration</th>\n",
       "      <th>from</th>\n",
       "      <th>time</th>\n",
       "      <th>to</th>\n",
       "      <th>time_since_previous</th>\n",
       "    </tr>\n",
       "  </thead>\n",
       "  <tbody>\n",
       "    <tr>\n",
       "      <th>2</th>\n",
       "      <td>25.054552</td>\n",
       "      <td>9</td>\n",
       "      <td>2007-08-18 13:12:56</td>\n",
       "      <td>76</td>\n",
       "      <td>NaN</td>\n",
       "    </tr>\n",
       "    <tr>\n",
       "      <th>2</th>\n",
       "      <td>25.054552</td>\n",
       "      <td>9</td>\n",
       "      <td>2007-08-18 13:12:57</td>\n",
       "      <td>76</td>\n",
       "      <td>1.0</td>\n",
       "    </tr>\n",
       "    <tr>\n",
       "      <th>2</th>\n",
       "      <td>25.054552</td>\n",
       "      <td>9</td>\n",
       "      <td>2007-08-18 13:12:57</td>\n",
       "      <td>76</td>\n",
       "      <td>0.0</td>\n",
       "    </tr>\n",
       "    <tr>\n",
       "      <th>2</th>\n",
       "      <td>25.054552</td>\n",
       "      <td>9</td>\n",
       "      <td>2007-08-18 13:12:57</td>\n",
       "      <td>76</td>\n",
       "      <td>0.0</td>\n",
       "    </tr>\n",
       "    <tr>\n",
       "      <th>3</th>\n",
       "      <td>18.737299</td>\n",
       "      <td>10</td>\n",
       "      <td>2004-10-18 03:14:44</td>\n",
       "      <td>30</td>\n",
       "      <td>50507.0</td>\n",
       "    </tr>\n",
       "  </tbody>\n",
       "</table>\n",
       "</div>"
      ],
      "text/plain": [
       "    duration  from                time  to  time_since_previous\n",
       "2  25.054552     9 2007-08-18 13:12:56  76                  NaN\n",
       "2  25.054552     9 2007-08-18 13:12:57  76                  1.0\n",
       "2  25.054552     9 2007-08-18 13:12:57  76                  0.0\n",
       "2  25.054552     9 2007-08-18 13:12:57  76                  0.0\n",
       "3  18.737299    10 2004-10-18 03:14:44  30              50507.0"
      ]
     },
     "execution_count": 9,
     "metadata": {},
     "output_type": "execute_result"
    }
   ],
   "source": [
    "dwdj_sorted.head(5)"
   ]
  },
  {
   "cell_type": "markdown",
   "metadata": {},
   "source": [
    "Now, we can remove rows if they are not the first in a from,to pair or have a time_since_previous of smaller than 2 seconds.\n",
    "\n",
    "Can't just remove ones which are smaller than 2 seconds, as they may not have same from, to values."
   ]
  },
  {
   "cell_type": "code",
   "execution_count": 10,
   "metadata": {
    "collapsed": false
   },
   "outputs": [],
   "source": [
    "duplicate_from_to = (\n",
    "    (dwdj_sorted['from'] == dwdj_sorted['from'].shift(1)) \\\n",
    "    & (dwdj_sorted['to'] == dwdj_sorted['to'].shift(1))\n",
    ")\n",
    "first_record = ~duplicate_from_to"
   ]
  },
  {
   "cell_type": "code",
   "execution_count": 11,
   "metadata": {
    "collapsed": false
   },
   "outputs": [],
   "source": [
    "sel = first_record | (dwdj_sorted['time_since_previous'] > 2)"
   ]
  },
  {
   "cell_type": "code",
   "execution_count": 12,
   "metadata": {
    "collapsed": false
   },
   "outputs": [
    {
     "data": {
      "text/plain": [
       "2    False\n",
       "2    False\n",
       "2    False\n",
       "2    False\n",
       "3    False\n",
       "3    False\n",
       "3    False\n",
       "8    False\n",
       "8    False\n",
       "7    False\n",
       "7    False\n",
       "7    False\n",
       "7    False\n",
       "7    False\n",
       "1    False\n",
       "1    False\n",
       "1    False\n",
       "1    False\n",
       "5    False\n",
       "5    False\n",
       "5    False\n",
       "5    False\n",
       "0    False\n",
       "0    False\n",
       "0    False\n",
       "0    False\n",
       "6    False\n",
       "4    False\n",
       "4    False\n",
       "4    False\n",
       "dtype: bool"
      ]
     },
     "execution_count": 12,
     "metadata": {},
     "output_type": "execute_result"
    }
   ],
   "source": [
    "sel & dwdj_sorted['time_since_previous'] > 2"
   ]
  },
  {
   "cell_type": "code",
   "execution_count": 13,
   "metadata": {
    "collapsed": false
   },
   "outputs": [
    {
     "data": {
      "text/html": [
       "<div>\n",
       "<table border=\"1\" class=\"dataframe\">\n",
       "  <thead>\n",
       "    <tr style=\"text-align: right;\">\n",
       "      <th></th>\n",
       "      <th>duration</th>\n",
       "      <th>from</th>\n",
       "      <th>time</th>\n",
       "      <th>to</th>\n",
       "      <th>time_since_previous</th>\n",
       "    </tr>\n",
       "  </thead>\n",
       "  <tbody>\n",
       "    <tr>\n",
       "      <th>2</th>\n",
       "      <td>25.054552</td>\n",
       "      <td>9</td>\n",
       "      <td>2007-08-18 13:12:56</td>\n",
       "      <td>76</td>\n",
       "      <td>NaN</td>\n",
       "    </tr>\n",
       "    <tr>\n",
       "      <th>3</th>\n",
       "      <td>18.737299</td>\n",
       "      <td>10</td>\n",
       "      <td>2004-10-18 03:14:44</td>\n",
       "      <td>30</td>\n",
       "      <td>50507.0</td>\n",
       "    </tr>\n",
       "    <tr>\n",
       "      <th>8</th>\n",
       "      <td>6.997534</td>\n",
       "      <td>20</td>\n",
       "      <td>2014-05-10 01:38:40</td>\n",
       "      <td>17</td>\n",
       "      <td>80636.0</td>\n",
       "    </tr>\n",
       "    <tr>\n",
       "      <th>7</th>\n",
       "      <td>1.792194</td>\n",
       "      <td>26</td>\n",
       "      <td>2007-07-03 07:26:12</td>\n",
       "      <td>73</td>\n",
       "      <td>20852.0</td>\n",
       "    </tr>\n",
       "    <tr>\n",
       "      <th>1</th>\n",
       "      <td>54.496066</td>\n",
       "      <td>42</td>\n",
       "      <td>2007-09-07 09:35:45</td>\n",
       "      <td>38</td>\n",
       "      <td>7772.0</td>\n",
       "    </tr>\n",
       "    <tr>\n",
       "      <th>5</th>\n",
       "      <td>41.127511</td>\n",
       "      <td>48</td>\n",
       "      <td>2013-07-18 22:33:33</td>\n",
       "      <td>10</td>\n",
       "      <td>46667.0</td>\n",
       "    </tr>\n",
       "    <tr>\n",
       "      <th>0</th>\n",
       "      <td>7.641597</td>\n",
       "      <td>53</td>\n",
       "      <td>2001-06-21 05:27:58</td>\n",
       "      <td>97</td>\n",
       "      <td>24864.0</td>\n",
       "    </tr>\n",
       "    <tr>\n",
       "      <th>6</th>\n",
       "      <td>34.137307</td>\n",
       "      <td>77</td>\n",
       "      <td>1999-06-07 19:20:58</td>\n",
       "      <td>21</td>\n",
       "      <td>49979.0</td>\n",
       "    </tr>\n",
       "    <tr>\n",
       "      <th>4</th>\n",
       "      <td>32.226882</td>\n",
       "      <td>95</td>\n",
       "      <td>2011-07-13 05:42:36</td>\n",
       "      <td>24</td>\n",
       "      <td>37298.0</td>\n",
       "    </tr>\n",
       "  </tbody>\n",
       "</table>\n",
       "</div>"
      ],
      "text/plain": [
       "    duration  from                time  to  time_since_previous\n",
       "2  25.054552     9 2007-08-18 13:12:56  76                  NaN\n",
       "3  18.737299    10 2004-10-18 03:14:44  30              50507.0\n",
       "8   6.997534    20 2014-05-10 01:38:40  17              80636.0\n",
       "7   1.792194    26 2007-07-03 07:26:12  73              20852.0\n",
       "1  54.496066    42 2007-09-07 09:35:45  38               7772.0\n",
       "5  41.127511    48 2013-07-18 22:33:33  10              46667.0\n",
       "0   7.641597    53 2001-06-21 05:27:58  97              24864.0\n",
       "6  34.137307    77 1999-06-07 19:20:58  21              49979.0\n",
       "4  32.226882    95 2011-07-13 05:42:36  24              37298.0"
      ]
     },
     "execution_count": 13,
     "metadata": {},
     "output_type": "execute_result"
    }
   ],
   "source": [
    "dwdj_sorted[sel]"
   ]
  },
  {
   "cell_type": "markdown",
   "metadata": {},
   "source": [
    "This is not bulletproof. There is a tradeoff between the tolerance (2 seconds) and the possibility of error. In particular, a larger tolerance will omit records which should in fact not be omitted. The appropriate tolerance is probalby the variability/noise in the time records of the hardware. If that is not known a good way to start validate would be to use various tolerances, summing the durations for each. Unambigious records can be removed, and the variability compared to try and see if there are any inflections/outliers that indicate a poor tolerance.\n",
    "\n",
    "Keep a record like so\n",
    "\n",
    "| duration | tolerance |  \n",
    "| ---- | ---- |\n",
    "|     3243253 | 1 |\n",
    "| 3243253 | 2 |\n",
    "| 3243253 | 3 |\n",
    "| 3243345 | 4 |"
   ]
  },
  {
   "cell_type": "code",
   "execution_count": null,
   "metadata": {
    "collapsed": true
   },
   "outputs": [],
   "source": []
  }
 ],
 "metadata": {
  "kernelspec": {
   "display_name": "Python 3",
   "language": "python",
   "name": "python3"
  },
  "language_info": {
   "codemirror_mode": {
    "name": "ipython",
    "version": 3
   },
   "file_extension": ".py",
   "mimetype": "text/x-python",
   "name": "python",
   "nbconvert_exporter": "python",
   "pygments_lexer": "ipython3",
   "version": "3.5.2"
  }
 },
 "nbformat": 4,
 "nbformat_minor": 1
}
